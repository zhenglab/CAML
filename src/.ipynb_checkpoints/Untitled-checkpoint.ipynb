{
 "cells": [
  {
   "cell_type": "code",
   "execution_count": 10,
   "id": "c6cf5971",
   "metadata": {},
   "outputs": [],
   "source": [
    "import os\n",
    "import numpy as np\n",
    "import torch\n",
    "import torch.nn as nn\n",
    "from torch.utils.data import DataLoader"
   ]
  },
  {
   "cell_type": "code",
   "execution_count": null,
   "id": "546eb927",
   "metadata": {},
   "outputs": [],
   "source": [
    "img = '/media/disk1/zhr/cvpr2022/code/mutual_inpainting/checkpoints/ffhq_1018_methods/results/input/60024'\n",
    "mask = \n"
   ]
  }
 ],
 "metadata": {
  "kernelspec": {
   "display_name": "“pytorch_11”",
   "language": "python",
   "name": "pytorch_11"
  },
  "language_info": {
   "codemirror_mode": {
    "name": "ipython",
    "version": 3
   },
   "file_extension": ".py",
   "mimetype": "text/x-python",
   "name": "python",
   "nbconvert_exporter": "python",
   "pygments_lexer": "ipython3",
   "version": "3.7.3"
  }
 },
 "nbformat": 4,
 "nbformat_minor": 5
}
